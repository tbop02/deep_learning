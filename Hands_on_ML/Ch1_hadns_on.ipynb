{
 "cells": [
  {
   "cell_type": "markdown",
   "metadata": {},
   "source": [
    "# ch1 hands on machine learning"
   ]
  },
  {
   "cell_type": "code",
   "execution_count": 105,
   "metadata": {},
   "outputs": [],
   "source": [
    "import pandas as pd\n",
    "from sklearn import linear_model\n",
    "import numpy as np\n",
    "import matplotlib.pyplot as plt"
   ]
  },
  {
   "cell_type": "code",
   "execution_count": 45,
   "metadata": {},
   "outputs": [],
   "source": [
    "oecd_bli= pd.read_csv('datasets/oecd_bli_2015.csv')"
   ]
  },
  {
   "cell_type": "code",
   "execution_count": 11,
   "metadata": {
    "scrolled": true
   },
   "outputs": [],
   "source": [
    "gdp_per_capita=pd.read_csv('datasets/gdp_per_capita.csv')"
   ]
  },
  {
   "cell_type": "code",
   "execution_count": 16,
   "metadata": {
    "scrolled": true
   },
   "outputs": [
    {
     "data": {
      "text/html": [
       "<div>\n",
       "<style scoped>\n",
       "    .dataframe tbody tr th:only-of-type {\n",
       "        vertical-align: middle;\n",
       "    }\n",
       "\n",
       "    .dataframe tbody tr th {\n",
       "        vertical-align: top;\n",
       "    }\n",
       "\n",
       "    .dataframe thead th {\n",
       "        text-align: right;\n",
       "    }\n",
       "</style>\n",
       "<table border=\"1\" class=\"dataframe\">\n",
       "  <thead>\n",
       "    <tr style=\"text-align: right;\">\n",
       "      <th></th>\n",
       "      <th>Country</th>\n",
       "      <th>Value</th>\n",
       "      <th>2015</th>\n",
       "    </tr>\n",
       "  </thead>\n",
       "  <tbody>\n",
       "    <tr>\n",
       "      <th>0</th>\n",
       "      <td>Australia</td>\n",
       "      <td>1.100000</td>\n",
       "      <td>50,961.87</td>\n",
       "    </tr>\n",
       "    <tr>\n",
       "      <th>1</th>\n",
       "      <td>Australia</td>\n",
       "      <td>1.100000</td>\n",
       "      <td>50,961.87</td>\n",
       "    </tr>\n",
       "    <tr>\n",
       "      <th>2</th>\n",
       "      <td>Australia</td>\n",
       "      <td>1.100000</td>\n",
       "      <td>50,961.87</td>\n",
       "    </tr>\n",
       "    <tr>\n",
       "      <th>3</th>\n",
       "      <td>Australia</td>\n",
       "      <td>20.000000</td>\n",
       "      <td>50,961.87</td>\n",
       "    </tr>\n",
       "    <tr>\n",
       "      <th>4</th>\n",
       "      <td>Australia</td>\n",
       "      <td>20.000000</td>\n",
       "      <td>50,961.87</td>\n",
       "    </tr>\n",
       "    <tr>\n",
       "      <th>5</th>\n",
       "      <td>Australia</td>\n",
       "      <td>20.000000</td>\n",
       "      <td>50,961.87</td>\n",
       "    </tr>\n",
       "    <tr>\n",
       "      <th>6</th>\n",
       "      <td>Australia</td>\n",
       "      <td>2.300000</td>\n",
       "      <td>50,961.87</td>\n",
       "    </tr>\n",
       "    <tr>\n",
       "      <th>7</th>\n",
       "      <td>Australia</td>\n",
       "      <td>2.300000</td>\n",
       "      <td>50,961.87</td>\n",
       "    </tr>\n",
       "    <tr>\n",
       "      <th>8</th>\n",
       "      <td>Australia</td>\n",
       "      <td>2.300000</td>\n",
       "      <td>50,961.87</td>\n",
       "    </tr>\n",
       "    <tr>\n",
       "      <th>9</th>\n",
       "      <td>Australia</td>\n",
       "      <td>31588.000000</td>\n",
       "      <td>50,961.87</td>\n",
       "    </tr>\n",
       "    <tr>\n",
       "      <th>10</th>\n",
       "      <td>Australia</td>\n",
       "      <td>31588.000000</td>\n",
       "      <td>50,961.87</td>\n",
       "    </tr>\n",
       "    <tr>\n",
       "      <th>11</th>\n",
       "      <td>Australia</td>\n",
       "      <td>31588.000000</td>\n",
       "      <td>50,961.87</td>\n",
       "    </tr>\n",
       "    <tr>\n",
       "      <th>12</th>\n",
       "      <td>Australia</td>\n",
       "      <td>62627.000000</td>\n",
       "      <td>50,961.87</td>\n",
       "    </tr>\n",
       "    <tr>\n",
       "      <th>13</th>\n",
       "      <td>Australia</td>\n",
       "      <td>11537.000000</td>\n",
       "      <td>50,961.87</td>\n",
       "    </tr>\n",
       "    <tr>\n",
       "      <th>14</th>\n",
       "      <td>Australia</td>\n",
       "      <td>47657.000000</td>\n",
       "      <td>50,961.87</td>\n",
       "    </tr>\n",
       "    <tr>\n",
       "      <th>15</th>\n",
       "      <td>Australia</td>\n",
       "      <td>47657.000000</td>\n",
       "      <td>50,961.87</td>\n",
       "    </tr>\n",
       "    <tr>\n",
       "      <th>16</th>\n",
       "      <td>Australia</td>\n",
       "      <td>47657.000000</td>\n",
       "      <td>50,961.87</td>\n",
       "    </tr>\n",
       "    <tr>\n",
       "      <th>17</th>\n",
       "      <td>Australia</td>\n",
       "      <td>72.000000</td>\n",
       "      <td>50,961.87</td>\n",
       "    </tr>\n",
       "    <tr>\n",
       "      <th>18</th>\n",
       "      <td>Australia</td>\n",
       "      <td>78.000000</td>\n",
       "      <td>50,961.87</td>\n",
       "    </tr>\n",
       "    <tr>\n",
       "      <th>19</th>\n",
       "      <td>Australia</td>\n",
       "      <td>66.000000</td>\n",
       "      <td>50,961.87</td>\n",
       "    </tr>\n",
       "    <tr>\n",
       "      <th>20</th>\n",
       "      <td>Australia</td>\n",
       "      <td>83.000000</td>\n",
       "      <td>50,961.87</td>\n",
       "    </tr>\n",
       "    <tr>\n",
       "      <th>21</th>\n",
       "      <td>Australia</td>\n",
       "      <td>55.000000</td>\n",
       "      <td>50,961.87</td>\n",
       "    </tr>\n",
       "    <tr>\n",
       "      <th>22</th>\n",
       "      <td>Australia</td>\n",
       "      <td>4.800000</td>\n",
       "      <td>50,961.87</td>\n",
       "    </tr>\n",
       "    <tr>\n",
       "      <th>23</th>\n",
       "      <td>Australia</td>\n",
       "      <td>4.800000</td>\n",
       "      <td>50,961.87</td>\n",
       "    </tr>\n",
       "    <tr>\n",
       "      <th>24</th>\n",
       "      <td>Australia</td>\n",
       "      <td>4.900000</td>\n",
       "      <td>50,961.87</td>\n",
       "    </tr>\n",
       "    <tr>\n",
       "      <th>25</th>\n",
       "      <td>Australia</td>\n",
       "      <td>1.080000</td>\n",
       "      <td>50,961.87</td>\n",
       "    </tr>\n",
       "    <tr>\n",
       "      <th>26</th>\n",
       "      <td>Australia</td>\n",
       "      <td>1.140000</td>\n",
       "      <td>50,961.87</td>\n",
       "    </tr>\n",
       "    <tr>\n",
       "      <th>27</th>\n",
       "      <td>Australia</td>\n",
       "      <td>1.010517</td>\n",
       "      <td>50,961.87</td>\n",
       "    </tr>\n",
       "    <tr>\n",
       "      <th>28</th>\n",
       "      <td>Australia</td>\n",
       "      <td>0.610000</td>\n",
       "      <td>50,961.87</td>\n",
       "    </tr>\n",
       "    <tr>\n",
       "      <th>29</th>\n",
       "      <td>Australia</td>\n",
       "      <td>1.810000</td>\n",
       "      <td>50,961.87</td>\n",
       "    </tr>\n",
       "    <tr>\n",
       "      <th>...</th>\n",
       "      <td>...</td>\n",
       "      <td>...</td>\n",
       "      <td>...</td>\n",
       "    </tr>\n",
       "    <tr>\n",
       "      <th>3188</th>\n",
       "      <td>Slovenia</td>\n",
       "      <td>52.000000</td>\n",
       "      <td>20,732.48</td>\n",
       "    </tr>\n",
       "    <tr>\n",
       "      <th>3189</th>\n",
       "      <td>Slovenia</td>\n",
       "      <td>52.000000</td>\n",
       "      <td>20,732.48</td>\n",
       "    </tr>\n",
       "    <tr>\n",
       "      <th>3190</th>\n",
       "      <td>Slovenia</td>\n",
       "      <td>52.000000</td>\n",
       "      <td>20,732.48</td>\n",
       "    </tr>\n",
       "    <tr>\n",
       "      <th>3191</th>\n",
       "      <td>Slovenia</td>\n",
       "      <td>59.000000</td>\n",
       "      <td>20,732.48</td>\n",
       "    </tr>\n",
       "    <tr>\n",
       "      <th>3192</th>\n",
       "      <td>Slovenia</td>\n",
       "      <td>49.000000</td>\n",
       "      <td>20,732.48</td>\n",
       "    </tr>\n",
       "    <tr>\n",
       "      <th>3193</th>\n",
       "      <td>Slovenia</td>\n",
       "      <td>80.200000</td>\n",
       "      <td>20,732.48</td>\n",
       "    </tr>\n",
       "    <tr>\n",
       "      <th>3194</th>\n",
       "      <td>Slovenia</td>\n",
       "      <td>77.100000</td>\n",
       "      <td>20,732.48</td>\n",
       "    </tr>\n",
       "    <tr>\n",
       "      <th>3195</th>\n",
       "      <td>Slovenia</td>\n",
       "      <td>83.300000</td>\n",
       "      <td>20,732.48</td>\n",
       "    </tr>\n",
       "    <tr>\n",
       "      <th>3196</th>\n",
       "      <td>Slovenia</td>\n",
       "      <td>65.000000</td>\n",
       "      <td>20,732.48</td>\n",
       "    </tr>\n",
       "    <tr>\n",
       "      <th>3197</th>\n",
       "      <td>Slovenia</td>\n",
       "      <td>68.000000</td>\n",
       "      <td>20,732.48</td>\n",
       "    </tr>\n",
       "    <tr>\n",
       "      <th>3198</th>\n",
       "      <td>Slovenia</td>\n",
       "      <td>62.000000</td>\n",
       "      <td>20,732.48</td>\n",
       "    </tr>\n",
       "    <tr>\n",
       "      <th>3199</th>\n",
       "      <td>Slovenia</td>\n",
       "      <td>76.000000</td>\n",
       "      <td>20,732.48</td>\n",
       "    </tr>\n",
       "    <tr>\n",
       "      <th>3200</th>\n",
       "      <td>Slovenia</td>\n",
       "      <td>52.000000</td>\n",
       "      <td>20,732.48</td>\n",
       "    </tr>\n",
       "    <tr>\n",
       "      <th>3201</th>\n",
       "      <td>Slovenia</td>\n",
       "      <td>5.700000</td>\n",
       "      <td>20,732.48</td>\n",
       "    </tr>\n",
       "    <tr>\n",
       "      <th>3202</th>\n",
       "      <td>Slovenia</td>\n",
       "      <td>5.700000</td>\n",
       "      <td>20,732.48</td>\n",
       "    </tr>\n",
       "    <tr>\n",
       "      <th>3203</th>\n",
       "      <td>Slovenia</td>\n",
       "      <td>5.600000</td>\n",
       "      <td>20,732.48</td>\n",
       "    </tr>\n",
       "    <tr>\n",
       "      <th>3204</th>\n",
       "      <td>Slovenia</td>\n",
       "      <td>0.000000</td>\n",
       "      <td>20,732.48</td>\n",
       "    </tr>\n",
       "    <tr>\n",
       "      <th>3205</th>\n",
       "      <td>Slovenia</td>\n",
       "      <td>5.000000</td>\n",
       "      <td>20,732.48</td>\n",
       "    </tr>\n",
       "    <tr>\n",
       "      <th>3206</th>\n",
       "      <td>Slovenia</td>\n",
       "      <td>3.900000</td>\n",
       "      <td>20,732.48</td>\n",
       "    </tr>\n",
       "    <tr>\n",
       "      <th>3207</th>\n",
       "      <td>Slovenia</td>\n",
       "      <td>3.200000</td>\n",
       "      <td>20,732.48</td>\n",
       "    </tr>\n",
       "    <tr>\n",
       "      <th>3208</th>\n",
       "      <td>Slovenia</td>\n",
       "      <td>4.500000</td>\n",
       "      <td>20,732.48</td>\n",
       "    </tr>\n",
       "    <tr>\n",
       "      <th>3209</th>\n",
       "      <td>Slovenia</td>\n",
       "      <td>0.400000</td>\n",
       "      <td>20,732.48</td>\n",
       "    </tr>\n",
       "    <tr>\n",
       "      <th>3210</th>\n",
       "      <td>Slovenia</td>\n",
       "      <td>0.500000</td>\n",
       "      <td>20,732.48</td>\n",
       "    </tr>\n",
       "    <tr>\n",
       "      <th>3211</th>\n",
       "      <td>Slovenia</td>\n",
       "      <td>0.400000</td>\n",
       "      <td>20,732.48</td>\n",
       "    </tr>\n",
       "    <tr>\n",
       "      <th>3212</th>\n",
       "      <td>Slovenia</td>\n",
       "      <td>5.630000</td>\n",
       "      <td>20,732.48</td>\n",
       "    </tr>\n",
       "    <tr>\n",
       "      <th>3213</th>\n",
       "      <td>Slovenia</td>\n",
       "      <td>7.610000</td>\n",
       "      <td>20,732.48</td>\n",
       "    </tr>\n",
       "    <tr>\n",
       "      <th>3214</th>\n",
       "      <td>Slovenia</td>\n",
       "      <td>3.400000</td>\n",
       "      <td>20,732.48</td>\n",
       "    </tr>\n",
       "    <tr>\n",
       "      <th>3215</th>\n",
       "      <td>Slovenia</td>\n",
       "      <td>14.620000</td>\n",
       "      <td>20,732.48</td>\n",
       "    </tr>\n",
       "    <tr>\n",
       "      <th>3216</th>\n",
       "      <td>Slovenia</td>\n",
       "      <td>15.080000</td>\n",
       "      <td>20,732.48</td>\n",
       "    </tr>\n",
       "    <tr>\n",
       "      <th>3217</th>\n",
       "      <td>Slovenia</td>\n",
       "      <td>14.120000</td>\n",
       "      <td>20,732.48</td>\n",
       "    </tr>\n",
       "  </tbody>\n",
       "</table>\n",
       "<p>3218 rows × 3 columns</p>\n",
       "</div>"
      ],
      "text/plain": [
       "        Country         Value       2015\n",
       "0     Australia      1.100000  50,961.87\n",
       "1     Australia      1.100000  50,961.87\n",
       "2     Australia      1.100000  50,961.87\n",
       "3     Australia     20.000000  50,961.87\n",
       "4     Australia     20.000000  50,961.87\n",
       "5     Australia     20.000000  50,961.87\n",
       "6     Australia      2.300000  50,961.87\n",
       "7     Australia      2.300000  50,961.87\n",
       "8     Australia      2.300000  50,961.87\n",
       "9     Australia  31588.000000  50,961.87\n",
       "10    Australia  31588.000000  50,961.87\n",
       "11    Australia  31588.000000  50,961.87\n",
       "12    Australia  62627.000000  50,961.87\n",
       "13    Australia  11537.000000  50,961.87\n",
       "14    Australia  47657.000000  50,961.87\n",
       "15    Australia  47657.000000  50,961.87\n",
       "16    Australia  47657.000000  50,961.87\n",
       "17    Australia     72.000000  50,961.87\n",
       "18    Australia     78.000000  50,961.87\n",
       "19    Australia     66.000000  50,961.87\n",
       "20    Australia     83.000000  50,961.87\n",
       "21    Australia     55.000000  50,961.87\n",
       "22    Australia      4.800000  50,961.87\n",
       "23    Australia      4.800000  50,961.87\n",
       "24    Australia      4.900000  50,961.87\n",
       "25    Australia      1.080000  50,961.87\n",
       "26    Australia      1.140000  50,961.87\n",
       "27    Australia      1.010517  50,961.87\n",
       "28    Australia      0.610000  50,961.87\n",
       "29    Australia      1.810000  50,961.87\n",
       "...         ...           ...        ...\n",
       "3188   Slovenia     52.000000  20,732.48\n",
       "3189   Slovenia     52.000000  20,732.48\n",
       "3190   Slovenia     52.000000  20,732.48\n",
       "3191   Slovenia     59.000000  20,732.48\n",
       "3192   Slovenia     49.000000  20,732.48\n",
       "3193   Slovenia     80.200000  20,732.48\n",
       "3194   Slovenia     77.100000  20,732.48\n",
       "3195   Slovenia     83.300000  20,732.48\n",
       "3196   Slovenia     65.000000  20,732.48\n",
       "3197   Slovenia     68.000000  20,732.48\n",
       "3198   Slovenia     62.000000  20,732.48\n",
       "3199   Slovenia     76.000000  20,732.48\n",
       "3200   Slovenia     52.000000  20,732.48\n",
       "3201   Slovenia      5.700000  20,732.48\n",
       "3202   Slovenia      5.700000  20,732.48\n",
       "3203   Slovenia      5.600000  20,732.48\n",
       "3204   Slovenia      0.000000  20,732.48\n",
       "3205   Slovenia      5.000000  20,732.48\n",
       "3206   Slovenia      3.900000  20,732.48\n",
       "3207   Slovenia      3.200000  20,732.48\n",
       "3208   Slovenia      4.500000  20,732.48\n",
       "3209   Slovenia      0.400000  20,732.48\n",
       "3210   Slovenia      0.500000  20,732.48\n",
       "3211   Slovenia      0.400000  20,732.48\n",
       "3212   Slovenia      5.630000  20,732.48\n",
       "3213   Slovenia      7.610000  20,732.48\n",
       "3214   Slovenia      3.400000  20,732.48\n",
       "3215   Slovenia     14.620000  20,732.48\n",
       "3216   Slovenia     15.080000  20,732.48\n",
       "3217   Slovenia     14.120000  20,732.48\n",
       "\n",
       "[3218 rows x 3 columns]"
      ]
     },
     "execution_count": 16,
     "metadata": {},
     "output_type": "execute_result"
    }
   ],
   "source": [
    "pd.merge(oecd_bli[['Country','Value']],gdp_per_capita[['Country','2015']],on='Country')"
   ]
  },
  {
   "cell_type": "code",
   "execution_count": 120,
   "metadata": {
    "scrolled": true
   },
   "outputs": [],
   "source": [
    "## extract rows which has Life satisfaction value of incicator and extract Country and Value columns.\n",
    "oecd_extract=oecd_bli[(oecd_bli.Indicator=='Life satisfaction') & (oecd_bli.Inequality=='Total')][['Country','Value']]\n",
    "\n",
    "## extract only Country and 2015 (gdp) columns\n",
    "gdp_pc_extract=gdp_per_capita[['Country','2015']]\n",
    "\n",
    "#merge two dataframes\n",
    "merge_bli_gdp=pd.merge(oecd_extract,gdp_pc_extract,on='Country')\n",
    "\n",
    "# change columns name resonably\n",
    "merge_bli_gdp.columns=['Country','LS','GDP']\n",
    "\n",
    "# GDP unit to float32\n",
    "merge_bli_gdp.GDP=merge_bli_gdp.GDP.replace('[,]','', regex=True ).replace('\\..+','', regex=True ).astype(float)\n",
    "merge_bli_gdp[['LS','GDP']] = merge_bli_gdp[['LS','GDP']].apply(pd.to_numeric)"
   ]
  },
  {
   "cell_type": "code",
   "execution_count": 145,
   "metadata": {},
   "outputs": [
    {
     "data": {
      "text/plain": [
       "[<matplotlib.lines.Line2D at 0x2a8c37db4e0>]"
      ]
     },
     "execution_count": 145,
     "metadata": {},
     "output_type": "execute_result"
    },
    {
     "data": {
      "image/png": "[encoded data removed]",
      "text/plain": [
       "<matplotlib.figure.Figure at 0x2a8c37db588>"
      ]
     },
     "metadata": {},
     "output_type": "display_data"
    }
   ],
   "source": [
    "%matplotlib inline\n",
    "ax=merge_bli_gdp.plot(kind='scatter',x='GDP',y='LS')\n",
    "ax.set_ylim([0,10])\n",
    "ax.set_xlim([0,100000])\n",
    "\n",
    "# linear fit\n",
    "model=linear_model.LinearRegression()\n",
    "model.fit(merge_bli_gdp.GDP.values.reshape(-1,1),merge_bli_gdp.LS.values.reshape(-1,1))\n",
    "\n",
    "# predict y from the data\n",
    "x_new = np.linspace(0, 1000000 , 100000)\n",
    "y_new = model.predict(x_new.reshape(-1,1))\n",
    "ax.plot(x_new,y_new, color='red')"
   ]
  },
  {
   "cell_type": "markdown",
   "metadata": {},
   "source": [
    "**Q1. How would you define Machine learning?**"
   ]
  },
  {
   "cell_type": "markdown",
   "metadata": {},
   "source": [
    "make computer make algorithm automatically from data"
   ]
  },
  {
   "cell_type": "markdown",
   "metadata": {},
   "source": [
    "**Q2. Can you name four types of problems where it shines?**"
   ]
  },
  {
   "cell_type": "markdown",
   "metadata": {},
   "source": [
    "supervised, unsupervised, semisupervised, Reinforced"
   ]
  },
  {
   "cell_type": "markdown",
   "metadata": {},
   "source": [
    "**Q3. What is a labeled traning set?**"
   ]
  },
  {
   "cell_type": "markdown",
   "metadata": {},
   "source": [
    "datasets you already know the category"
   ]
  },
  {
   "cell_type": "markdown",
   "metadata": {},
   "source": [
    "**Q4. what are the two most common supervised tasks?**"
   ]
  },
  {
   "cell_type": "markdown",
   "metadata": {},
   "source": [
    "classification and regression"
   ]
  },
  {
   "cell_type": "markdown",
   "metadata": {},
   "source": [
    "**Q5. Can you name four common unsupervised tasks?**"
   ]
  },
  {
   "cell_type": "markdown",
   "metadata": {},
   "source": [
    "Clustering, Visualizaion, Dimensionality reduction and Association rule learning"
   ]
  },
  {
   "cell_type": "markdown",
   "metadata": {},
   "source": [
    "** Q6.what type of Machine Learning algorithm would you use to allow a robot to walk in various unknown terrains?**"
   ]
  },
  {
   "cell_type": "markdown",
   "metadata": {},
   "source": [
    "reinforcement learning"
   ]
  },
  {
   "cell_type": "markdown",
   "metadata": {},
   "source": [
    "**Q7. what type of algorithm would you use to segment your customers into muliple groups?**"
   ]
  },
  {
   "cell_type": "markdown",
   "metadata": {},
   "source": [
    "Clustering"
   ]
  },
  {
   "cell_type": "markdown",
   "metadata": {},
   "source": [
    "**Q8. Would you frame the problem of spam detection as a supervised learning problem or an unsupervised learning problem?**"
   ]
  },
  {
   "cell_type": "markdown",
   "metadata": {},
   "source": [
    "supervised"
   ]
  },
  {
   "cell_type": "markdown",
   "metadata": {},
   "source": [
    "**Q9. what is an online learning system?**"
   ]
  },
  {
   "cell_type": "markdown",
   "metadata": {},
   "source": [
    "training machine learning algorithm incrementaly "
   ]
  },
  {
   "cell_type": "markdown",
   "metadata": {},
   "source": [
    "**Q10. what is out-of-core learning?**"
   ]
  },
  {
   "cell_type": "markdown",
   "metadata": {},
   "source": [
    "when datasets are hung that cannot fit in one machine's main memory"
   ]
  },
  {
   "cell_type": "markdown",
   "metadata": {},
   "source": [
    "**Q11. What type of learning algorithm relies on a similarity measure to make prediction?**"
   ]
  },
  {
   "cell_type": "markdown",
   "metadata": {},
   "source": [
    "instance based learning"
   ]
  },
  {
   "cell_type": "markdown",
   "metadata": {},
   "source": [
    "**Q12. What is difference between a model parameter and a learning algorithms's hyperparameter?**"
   ]
  },
  {
   "cell_type": "markdown",
   "metadata": {},
   "source": [
    "model parameter determines the model type, but hyperparameters determine how machine learning algorithms learn"
   ]
  },
  {
   "cell_type": "markdown",
   "metadata": {},
   "source": [
    "**Q 13. What do model-based learning algorithms search for? What is the most common strategy they use to succeed? How do they make predictions?**"
   ]
  },
  {
   "cell_type": "markdown",
   "metadata": {},
   "source": [
    "They make model that generalize data and can prediction // trying to find model whhich fit best to datasets // after making model, put new datapoint into the model, and get prediction"
   ]
  },
  {
   "cell_type": "markdown",
   "metadata": {},
   "source": [
    "**Q 14. Can you name four of main challenges in Machine learning**"
   ]
  },
  {
   "cell_type": "markdown",
   "metadata": {},
   "source": [
    "<font color='red'>Insufficient Quntity of Traning Data, Nonrepresentative Traning Data, poor-quality data and irrelevant features</font>"
   ]
  },
  {
   "cell_type": "markdown",
   "metadata": {},
   "source": [
    "**Q 15. If your model performs great on the traning data but generalizes poorly to new instances, what is happening? Can you name three possible solutions?**"
   ]
  },
  {
   "cell_type": "markdown",
   "metadata": {},
   "source": [
    "Simplify the model(andrew Ng deny this way, rather he recommend to use regularization parameter, gather more traning data and reduce noise(fix data erros and remove outliers)."
   ]
  },
  {
   "cell_type": "markdown",
   "metadata": {},
   "source": [
    "**Q 16. what is a test set and why would you want to use it?**"
   ]
  },
  {
   "cell_type": "markdown",
   "metadata": {},
   "source": [
    "test set is for measuring how fitted model perform well about unseen datasets."
   ]
  },
  {
   "cell_type": "markdown",
   "metadata": {},
   "source": [
    "**Q 17. What is the purpose of a validation set?**"
   ]
  },
  {
   "cell_type": "markdown",
   "metadata": {},
   "source": [
    "to check how model generalize training data"
   ]
  },
  {
   "cell_type": "markdown",
   "metadata": {},
   "source": [
    "** Q18. What can go wrong if you tune hyperparameters using the test set?**"
   ]
  },
  {
   "cell_type": "markdown",
   "metadata": {},
   "source": [
    "It can tend to fit only test set and doesn't gurantee about unseen data"
   ]
  },
  {
   "cell_type": "markdown",
   "metadata": {},
   "source": [
    "**Q19. What is cross-validation and why would you prefer it to a validation set?**"
   ]
  },
  {
   "cell_type": "markdown",
   "metadata": {},
   "source": [
    "It can reduce overfitting, especaily when having small traning dataset, samling bais could occur."
   ]
  }
 ],
 "metadata": {
  "kernelspec": {
   "display_name": "Python 3",
   "language": "python",
   "name": "python3"
  },
  "language_info": {
   "codemirror_mode": {
    "name": "ipython",
    "version": 3
   },
   "file_extension": ".py",
   "mimetype": "text/x-python",
   "name": "python",
   "nbconvert_exporter": "python",
   "pygments_lexer": "ipython3",
   "version": "3.5.4"
  }
 },
 "nbformat": 4,
 "nbformat_minor": 2
}
